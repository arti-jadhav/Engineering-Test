{
 "cells": [
  {
   "cell_type": "markdown",
   "metadata": {},
   "source": [
    "# Engineering Test\n",
    "This program loops through the contents of \"Engineering Test Files\"\n",
    "Generates a list of IP addresses extracted from the traversed files along with their respective environment name"
   ]
  },
  {
   "cell_type": "code",
   "execution_count": null,
   "metadata": {},
   "outputs": [],
   "source": [
    "#Importing Packages\n",
    "import os\n",
    "import pandas as pd\n",
    "\n",
    "#Setting Directory to travese\n",
    "directory='C:\\\\Users\\\\Arti\\\\Downloads\\\\Engineering Test\\\\Engineering Test\\\\Engineering Test Files'\n",
    "samplelist=[]\n",
    "\n",
    "#loop through the files to extract IP address and environment name\n",
    "for filename in os.listdir(directory):\n",
    "    if filename != \"Combined.csv\":\n",
    "        fullname=os.path.join(directory,filename)\n",
    "        sourcedf=pd.read_csv(fullname)\n",
    "        envname=os.path.splitext(filename)[0].strip(\"0123456789\")\n",
    "        sourcedf['Environment']=envname\n",
    "        samplelist.append(sourcedf)\n",
    "        \n",
    "#Sorted dataframe based on unique Source IPs\n",
    "frame=pd.concat(samplelist)\n",
    "frame=frame[['Source IP', 'Environment']]\n",
    "frame.sort_values('Source IP' , inplace=True)\n",
    "final=frame.drop_duplicates(subset=['Source IP'])\n",
    "\n",
    "#Save the output\n",
    "final.to_csv('C:\\\\Users\\\\Arti\\\\Downloads\\\\Engineering Test\\\\Engineering Test\\\\Engineering Test Files\\\\Combined.csv',index=False)"
   ]
  }
 ],
 "metadata": {
  "kernelspec": {
   "display_name": "Python 3",
   "language": "python",
   "name": "python3"
  },
  "language_info": {
   "codemirror_mode": {
    "name": "ipython",
    "version": 3
   },
   "file_extension": ".py",
   "mimetype": "text/x-python",
   "name": "python",
   "nbconvert_exporter": "python",
   "pygments_lexer": "ipython3",
   "version": "3.8.5"
  }
 },
 "nbformat": 4,
 "nbformat_minor": 4
}
